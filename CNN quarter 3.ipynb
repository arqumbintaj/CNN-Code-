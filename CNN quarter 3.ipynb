{
 "cells": [
  {
   "cell_type": "code",
   "execution_count": 1,
   "metadata": {},
   "outputs": [],
   "source": [
    "import os, shutil"
   ]
  },
  {
   "cell_type": "code",
   "execution_count": 2,
   "metadata": {},
   "outputs": [],
   "source": [
    "original_dataset_dir = 'E:\\course work\\kaggle original data'"
   ]
  },
  {
   "cell_type": "code",
   "execution_count": 9,
   "metadata": {},
   "outputs": [],
   "source": [
    "base_dir ='E:\\course work\\Working Directory'"
   ]
  },
  {
   "cell_type": "code",
   "execution_count": 10,
   "metadata": {},
   "outputs": [],
   "source": [
    "os.mkdir(base_dir)"
   ]
  },
  {
   "cell_type": "code",
   "execution_count": 11,
   "metadata": {},
   "outputs": [],
   "source": [
    "train_dir = os.path.join(base_dir, 'train')\n",
    "os.mkdir(train_dir)"
   ]
  },
  {
   "cell_type": "code",
   "execution_count": 12,
   "metadata": {},
   "outputs": [],
   "source": [
    "validation_dir = os.path.join(base_dir, 'validation')\n",
    "os.mkdir(validation_dir)"
   ]
  },
  {
   "cell_type": "code",
   "execution_count": 13,
   "metadata": {},
   "outputs": [],
   "source": [
    "test_dir = os.path.join(base_dir, 'test')\n",
    "os.mkdir(test_dir)"
   ]
  },
  {
   "cell_type": "code",
   "execution_count": 14,
   "metadata": {},
   "outputs": [],
   "source": [
    "train_cats_dir = os.path.join(train_dir, 'cats')\n",
    "os.mkdir(train_cats_dir)"
   ]
  },
  {
   "cell_type": "code",
   "execution_count": 15,
   "metadata": {},
   "outputs": [],
   "source": [
    "train_dogs_dir = os.path.join(train_dir, 'dogs')\n",
    "os.mkdir(train_dogs_dir)"
   ]
  },
  {
   "cell_type": "code",
   "execution_count": 16,
   "metadata": {},
   "outputs": [],
   "source": [
    "validation_cats_dir = os.path.join(validation_dir, 'cats')\n",
    "os.mkdir(validation_cats_dir)"
   ]
  },
  {
   "cell_type": "code",
   "execution_count": 17,
   "metadata": {},
   "outputs": [],
   "source": [
    "validation_dogs_dir = os.path.join(validation_dir, 'dogs')\n",
    "os.mkdir(validation_dogs_dir)"
   ]
  },
  {
   "cell_type": "code",
   "execution_count": 18,
   "metadata": {},
   "outputs": [],
   "source": [
    "test_cats_dir = os.path.join(test_dir, 'cats')\n",
    "os.mkdir(test_cats_dir)"
   ]
  },
  {
   "cell_type": "code",
   "execution_count": 19,
   "metadata": {},
   "outputs": [],
   "source": [
    "test_dogs_dir = os.path.join(test_dir, 'dogs')\n",
    "os.mkdir(test_dogs_dir)"
   ]
  },
  {
   "cell_type": "code",
   "execution_count": 21,
   "metadata": {},
   "outputs": [],
   "source": [
    "fnames = ['cat.{}.jpg'.format(i) for i in range(1000)]\n",
    "for fname in fnames:\n",
    "    src = os.path.join(original_dataset_dir, fname)\n",
    "    dst = os.path.join(train_cats_dir, fname)\n",
    "    shutil.copyfile(src, dst)"
   ]
  },
  {
   "cell_type": "code",
   "execution_count": 22,
   "metadata": {},
   "outputs": [],
   "source": [
    "fnames = ['cat.{}.jpg'.format(i) for i in range(1000, 1500)]\n",
    "for fname in fnames:\n",
    "    src = os.path.join(original_dataset_dir, fname)\n",
    "    dst = os.path.join(validation_cats_dir, fname)\n",
    "    shutil.copyfile(src, dst)"
   ]
  },
  {
   "cell_type": "code",
   "execution_count": 23,
   "metadata": {},
   "outputs": [],
   "source": [
    "fnames = ['cat.{}.jpg'.format(i) for i in range(1500, 2000)]\n",
    "for fname in fnames:\n",
    "    src = os.path.join(original_dataset_dir, fname)\n",
    "    dst = os.path.join(test_cats_dir, fname)\n",
    "    shutil.copyfile(src, dst)"
   ]
  },
  {
   "cell_type": "code",
   "execution_count": 24,
   "metadata": {},
   "outputs": [],
   "source": [
    "fnames = ['dog.{}.jpg'.format(i) for i in range(1000)]\n",
    "for fname in fnames:\n",
    "    src = os.path.join(original_dataset_dir, fname)\n",
    "    dst = os.path.join(train_dogs_dir, fname)\n",
    "    shutil.copyfile(src, dst)"
   ]
  },
  {
   "cell_type": "code",
   "execution_count": 25,
   "metadata": {},
   "outputs": [],
   "source": [
    "fnames = ['dog.{}.jpg'.format(i) for i in range(1000, 1500)]\n",
    "for fname in fnames:\n",
    "    src = os.path.join(original_dataset_dir, fname)\n",
    "    dst = os.path.join(validation_dogs_dir, fname)\n",
    "    shutil.copyfile(src, dst)"
   ]
  },
  {
   "cell_type": "code",
   "execution_count": 26,
   "metadata": {},
   "outputs": [],
   "source": [
    "fnames = ['dog.{}.jpg'.format(i) for i in range(1500, 2000)]\n",
    "for fname in fnames:\n",
    "    src = os.path.join(original_dataset_dir, fname)\n",
    "    dst = os.path.join(test_dogs_dir, fname)\n",
    "    shutil.copyfile(src, dst)"
   ]
  },
  {
   "cell_type": "code",
   "execution_count": 28,
   "metadata": {},
   "outputs": [],
   "source": [
    "from tensorflow.keras import layers\n",
    "from tensorflow.keras import models"
   ]
  },
  {
   "cell_type": "code",
   "execution_count": 30,
   "metadata": {},
   "outputs": [],
   "source": [
    "model = models.Sequential()\n",
    "model.add(layers.Conv2D(32, (3, 3), activation='relu',input_shape=(150, 150, 3)))\n",
    "model.add(layers.MaxPooling2D((2, 2)))\n",
    "model.add(layers.Conv2D(64, (3, 3), activation='relu'))\n",
    "model.add(layers.MaxPooling2D((2, 2)))\n",
    "model.add(layers.Conv2D(128, (3, 3), activation='relu'))\n",
    "model.add(layers.MaxPooling2D((2, 2)))\n",
    "model.add(layers.Conv2D(128, (3, 3), activation='relu'))\n",
    "model.add(layers.MaxPooling2D((2, 2)))\n",
    "model.add(layers.Flatten())\n",
    "model.add(layers.Dense(512, activation='relu'))\n",
    "model.add(layers.Dense(1, activation='sigmoid'))"
   ]
  },
  {
   "cell_type": "code",
   "execution_count": 31,
   "metadata": {},
   "outputs": [
    {
     "name": "stdout",
     "output_type": "stream",
     "text": [
      "Model: \"sequential_1\"\n",
      "_________________________________________________________________\n",
      "Layer (type)                 Output Shape              Param #   \n",
      "=================================================================\n",
      "conv2d_1 (Conv2D)            (None, 148, 148, 32)      896       \n",
      "_________________________________________________________________\n",
      "max_pooling2d (MaxPooling2D) (None, 74, 74, 32)        0         \n",
      "_________________________________________________________________\n",
      "conv2d_2 (Conv2D)            (None, 72, 72, 64)        18496     \n",
      "_________________________________________________________________\n",
      "max_pooling2d_1 (MaxPooling2 (None, 36, 36, 64)        0         \n",
      "_________________________________________________________________\n",
      "conv2d_3 (Conv2D)            (None, 34, 34, 128)       73856     \n",
      "_________________________________________________________________\n",
      "max_pooling2d_2 (MaxPooling2 (None, 17, 17, 128)       0         \n",
      "_________________________________________________________________\n",
      "conv2d_4 (Conv2D)            (None, 15, 15, 128)       147584    \n",
      "_________________________________________________________________\n",
      "max_pooling2d_3 (MaxPooling2 (None, 7, 7, 128)         0         \n",
      "_________________________________________________________________\n",
      "flatten (Flatten)            (None, 6272)              0         \n",
      "_________________________________________________________________\n",
      "dense (Dense)                (None, 512)               3211776   \n",
      "_________________________________________________________________\n",
      "dense_1 (Dense)              (None, 1)                 513       \n",
      "=================================================================\n",
      "Total params: 3,453,121\n",
      "Trainable params: 3,453,121\n",
      "Non-trainable params: 0\n",
      "_________________________________________________________________\n"
     ]
    }
   ],
   "source": [
    "model.summary()"
   ]
  },
  {
   "cell_type": "code",
   "execution_count": 32,
   "metadata": {},
   "outputs": [],
   "source": [
    "from tensorflow.keras import optimizers \n",
    "model.compile(loss='binary_crossentropy',optimizer=optimizers.RMSprop(lr=1e-4),metrics=['acc'])"
   ]
  },
  {
   "cell_type": "code",
   "execution_count": 39,
   "metadata": {},
   "outputs": [
    {
     "name": "stdout",
     "output_type": "stream",
     "text": [
      "Found 2000 images belonging to 2 classes.\n"
     ]
    }
   ],
   "source": [
    "from tensorflow.keras.preprocessing.image import ImageDataGenerator\n",
    "train_datagen = ImageDataGenerator(rescale=1./255)\n",
    "test_datagen = ImageDataGenerator(rescale=1./255)\n",
    "train_generator = train_datagen.flow_from_directory(train_dir,target_size=(150, 150),batch_size=20,class_mode='binary')"
   ]
  },
  {
   "cell_type": "code",
   "execution_count": 40,
   "metadata": {},
   "outputs": [
    {
     "name": "stdout",
     "output_type": "stream",
     "text": [
      "Found 1000 images belonging to 2 classes.\n"
     ]
    }
   ],
   "source": [
    "validation_generator = test_datagen.flow_from_directory(validation_dir,target_size=(150, 150),batch_size=20,class_mode='binary')"
   ]
  },
  {
   "cell_type": "code",
   "execution_count": 41,
   "metadata": {},
   "outputs": [
    {
     "name": "stdout",
     "output_type": "stream",
     "text": [
      "data batch shape: (20, 150, 150, 3)\n",
      "labels batch shape: (20,)\n"
     ]
    }
   ],
   "source": [
    "for data_batch, labels_batch in train_generator:\n",
    "    print('data batch shape:', data_batch.shape)\n",
    "    print('labels batch shape:', labels_batch.shape)\n",
    "    break\n"
   ]
  },
  {
   "cell_type": "code",
   "execution_count": 42,
   "metadata": {},
   "outputs": [
    {
     "name": "stdout",
     "output_type": "stream",
     "text": [
      "Epoch 1/30\n",
      "100/100 [==============================] - 184s 2s/step - loss: 0.6900 - acc: 0.5375 - val_loss: 0.6715 - val_acc: 0.5690\n",
      "Epoch 2/30\n",
      "100/100 [==============================] - 191s 2s/step - loss: 0.6617 - acc: 0.6060 - val_loss: 0.6424 - val_acc: 0.6200\n",
      "Epoch 3/30\n",
      "100/100 [==============================] - 180s 2s/step - loss: 0.6152 - acc: 0.6620 - val_loss: 0.6043 - val_acc: 0.6690\n",
      "Epoch 4/30\n",
      "100/100 [==============================] - 166s 2s/step - loss: 0.5690 - acc: 0.7060 - val_loss: 0.6012 - val_acc: 0.6660\n",
      "Epoch 5/30\n",
      "100/100 [==============================] - 199s 2s/step - loss: 0.5256 - acc: 0.7300 - val_loss: 0.5667 - val_acc: 0.7010\n",
      "Epoch 6/30\n",
      "100/100 [==============================] - 158s 2s/step - loss: 0.5083 - acc: 0.7455 - val_loss: 0.5713 - val_acc: 0.6970\n",
      "Epoch 7/30\n",
      "100/100 [==============================] - 176s 2s/step - loss: 0.4780 - acc: 0.7775 - val_loss: 0.5493 - val_acc: 0.7160\n",
      "Epoch 8/30\n",
      "100/100 [==============================] - 170s 2s/step - loss: 0.4524 - acc: 0.7810 - val_loss: 0.5235 - val_acc: 0.7370\n",
      "Epoch 9/30\n",
      "100/100 [==============================] - 167s 2s/step - loss: 0.4278 - acc: 0.8005 - val_loss: 0.5750 - val_acc: 0.7040\n",
      "Epoch 10/30\n",
      "100/100 [==============================] - 151s 2s/step - loss: 0.4025 - acc: 0.8260 - val_loss: 0.6208 - val_acc: 0.6780\n",
      "Epoch 11/30\n",
      "100/100 [==============================] - 129s 1s/step - loss: 0.3811 - acc: 0.8230 - val_loss: 0.5456 - val_acc: 0.7340\n",
      "Epoch 12/30\n",
      "100/100 [==============================] - 129s 1s/step - loss: 0.3505 - acc: 0.8455 - val_loss: 0.5569 - val_acc: 0.7300\n",
      "Epoch 13/30\n",
      "100/100 [==============================] - 142s 1s/step - loss: 0.3414 - acc: 0.8475 - val_loss: 0.5469 - val_acc: 0.7460\n",
      "Epoch 14/30\n",
      "100/100 [==============================] - 126s 1s/step - loss: 0.3158 - acc: 0.8645 - val_loss: 0.5786 - val_acc: 0.7290\n",
      "Epoch 15/30\n",
      "100/100 [==============================] - 126s 1s/step - loss: 0.2911 - acc: 0.8815 - val_loss: 0.5985 - val_acc: 0.7210\n",
      "Epoch 16/30\n",
      "100/100 [==============================] - 125s 1s/step - loss: 0.2790 - acc: 0.8825 - val_loss: 0.5678 - val_acc: 0.7300\n",
      "Epoch 17/30\n",
      "100/100 [==============================] - 126s 1s/step - loss: 0.2511 - acc: 0.9030 - val_loss: 0.5733 - val_acc: 0.7470\n",
      "Epoch 18/30\n",
      "100/100 [==============================] - 126s 1s/step - loss: 0.2325 - acc: 0.9150 - val_loss: 0.6588 - val_acc: 0.7200\n",
      "Epoch 19/30\n",
      "100/100 [==============================] - 134s 1s/step - loss: 0.2106 - acc: 0.9175 - val_loss: 0.6276 - val_acc: 0.7330\n",
      "Epoch 20/30\n",
      "100/100 [==============================] - 125s 1s/step - loss: 0.1864 - acc: 0.9300 - val_loss: 0.6305 - val_acc: 0.7410\n",
      "Epoch 21/30\n",
      "100/100 [==============================] - 126s 1s/step - loss: 0.1714 - acc: 0.9395 - val_loss: 0.7268 - val_acc: 0.7140\n",
      "Epoch 22/30\n",
      "100/100 [==============================] - 132s 1s/step - loss: 0.1490 - acc: 0.9510 - val_loss: 0.6845 - val_acc: 0.7330\n",
      "Epoch 23/30\n",
      "100/100 [==============================] - 128s 1s/step - loss: 0.1382 - acc: 0.9545 - val_loss: 0.7985 - val_acc: 0.7210\n",
      "Epoch 24/30\n",
      "100/100 [==============================] - 127s 1s/step - loss: 0.1203 - acc: 0.9590 - val_loss: 1.1125 - val_acc: 0.6690\n",
      "Epoch 25/30\n",
      "100/100 [==============================] - 127s 1s/step - loss: 0.1073 - acc: 0.9635 - val_loss: 0.8857 - val_acc: 0.7180\n",
      "Epoch 26/30\n",
      "100/100 [==============================] - 131s 1s/step - loss: 0.0941 - acc: 0.9720 - val_loss: 0.7986 - val_acc: 0.7300\n",
      "Epoch 27/30\n",
      "100/100 [==============================] - 132s 1s/step - loss: 0.0899 - acc: 0.9690 - val_loss: 0.8649 - val_acc: 0.7390\n",
      "Epoch 28/30\n",
      "100/100 [==============================] - 132s 1s/step - loss: 0.0679 - acc: 0.9830 - val_loss: 0.8078 - val_acc: 0.7430\n",
      "Epoch 29/30\n",
      "100/100 [==============================] - 126s 1s/step - loss: 0.0537 - acc: 0.9880 - val_loss: 1.0081 - val_acc: 0.7350\n",
      "Epoch 30/30\n",
      "100/100 [==============================] - 127s 1s/step - loss: 0.0564 - acc: 0.9805 - val_loss: 0.9207 - val_acc: 0.7440\n"
     ]
    }
   ],
   "source": [
    "history = model.fit_generator(train_generator,steps_per_epoch=100,epochs=30,validation_data=validation_generator,validation_steps=50)"
   ]
  },
  {
   "cell_type": "code",
   "execution_count": 47,
   "metadata": {},
   "outputs": [
    {
     "name": "stdout",
     "output_type": "stream",
     "text": [
      "WARNING:tensorflow:From C:\\Users\\DELL\\Anaconda3\\lib\\site-packages\\tensorflow_core\\python\\ops\\resource_variable_ops.py:1781: calling BaseResourceVariable.__init__ (from tensorflow.python.ops.resource_variable_ops) with constraint is deprecated and will be removed in a future version.\n",
      "Instructions for updating:\n",
      "If using Keras pass *_constraint arguments to layers.\n",
      "INFO:tensorflow:Assets written to: cats_and_dogs_small.h_ag5\\assets\n"
     ]
    }
   ],
   "source": [
    "model.save('cats_and_dogs_small.h_ag5')"
   ]
  },
  {
   "cell_type": "code",
   "execution_count": 46,
   "metadata": {},
   "outputs": [
    {
     "data": {
      "image/png": "[encoded data removed]",
      "text/plain": [
       "<Figure size 432x288 with 1 Axes>"
      ]
     },
     "metadata": {
      "needs_background": "light"
     },
     "output_type": "display_data"
    },
    {
     "data": {
      "image/png": "[encoded data removed]",
      "text/plain": [
       "<Figure size 432x288 with 1 Axes>"
      ]
     },
     "metadata": {
      "needs_background": "light"
     },
     "output_type": "display_data"
    }
   ],
   "source": [
    "import matplotlib.pyplot as plt\n",
    "acc = history.history['acc']\n",
    "val_acc = history.history['val_acc']\n",
    "loss = history.history['loss']\n",
    "val_loss = history.history['val_loss']\n",
    "epochs = range(1, len(acc) + 1)\n",
    "plt.plot(epochs, acc, 'bo', label='Training acc')\n",
    "plt.plot(epochs, val_acc, 'b', label='Validation acc')\n",
    "plt.title('Training and validation accuracy')\n",
    "plt.legend()\n",
    "plt.figure()\n",
    "plt.plot(epochs, loss, 'bo', label='Training loss')\n",
    "plt.plot(epochs, val_loss, 'b', label='Validation loss')\n",
    "plt.title('Training and validation loss')\n",
    "plt.legend()\n",
    "plt.show()"
   ]
  },
  {
   "cell_type": "code",
   "execution_count": null,
   "metadata": {},
   "outputs": [],
   "source": []
  }
 ],
 "metadata": {
  "kernelspec": {
   "display_name": "Python 3",
   "language": "python",
   "name": "python3"
  },
  "language_info": {
   "codemirror_mode": {
    "name": "ipython",
    "version": 3
   },
   "file_extension": ".py",
   "mimetype": "text/x-python",
   "name": "python",
   "nbconvert_exporter": "python",
   "pygments_lexer": "ipython3",
   "version": "3.7.4"
  }
 },
 "nbformat": 4,
 "nbformat_minor": 2
}
